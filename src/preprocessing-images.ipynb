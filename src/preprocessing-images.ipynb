{
 "cells": [
  {
   "cell_type": "code",
   "execution_count": 17,
   "metadata": {},
   "outputs": [],
   "source": [
    "# convert image to jpeg\n",
    "from keras.preprocessing.image import ImageDataGenerator, load_img\n",
    "from PIL import Image\n",
    "import scipy.ndimage as ndimage\n",
    "import numpy as np\n",
    "import os\n",
    "import random\n",
    "\n",
    "def convert_to_jpg(image_path):\n",
    "    i = 0\n",
    "    for filename in os.listdir(image_path):\n",
    "        im = Image.open(image_path + filename)\n",
    "        im = im.convert(\"RGB\")\n",
    "\n",
    "        im.save(image_path + str(i) + '.jpg') #save image with new extension\n",
    "\n",
    "        i = i +1"
   ]
  },
  {
   "cell_type": "code",
   "execution_count": 6,
   "metadata": {},
   "outputs": [],
   "source": [
    "convert_to_jpeg('./raw-database/facedown/')\n",
    "convert_to_jpg('./raw-database/climb/')\n",
    "convert_to_jpeg('./raw-database/stand/')\n",
    "convert_to_jpeg('./raw-database/faceup/')\n",
    "convert_to_jpeg('./raw-database/sittingup/')"
   ]
  },
  {
   "cell_type": "code",
   "execution_count": 7,
   "metadata": {},
   "outputs": [],
   "source": [
    "# data augmentation: add noise\n",
    "\n",
    "def add_noise(img):\n",
    "#     '''Add random noise to an image'''\n",
    "    VARIABILITY = 20\n",
    "    deviation = VARIABILITY*(1.3)\n",
    "    noise = np.random.normal(0, deviation, img.shape)\n",
    "    img += noise\n",
    "    np.clip(img, 0., 255.)\n",
    "    return img"
   ]
  },
  {
   "cell_type": "code",
   "execution_count": 8,
   "metadata": {},
   "outputs": [],
   "source": [
    "\n",
    "def dataAugmentation(src_path, dest_path):\n",
    "    datagen = ImageDataGenerator(\n",
    "        zoom_range=0.2,\n",
    "        preprocessing_function=add_noise\n",
    "    )\n",
    "    for filename in os.listdir(src_path):\n",
    "        image = np.expand_dims(ndimage.imread(src_path + filename), 0)\n",
    "        for x, val in zip(datagen.flow(\n",
    "            image,                    \n",
    "            save_to_dir= dest_path,     \n",
    "            save_prefix= filename,        \n",
    "            save_format='jpeg'),range(0)\n",
    "         ) :     \n",
    "            pass"
   ]
  },
  {
   "cell_type": "code",
   "execution_count": 9,
   "metadata": {},
   "outputs": [
    {
     "name": "stderr",
     "output_type": "stream",
     "text": [
      "/Users/vdang/opt/anaconda3/envs/final/lib/python3.6/site-packages/ipykernel_launcher.py:7: DeprecationWarning: `imread` is deprecated!\n",
      "`imread` is deprecated in SciPy 1.0.0.\n",
      "Use ``matplotlib.pyplot.imread`` instead.\n",
      "  import sys\n"
     ]
    }
   ],
   "source": [
    "dataAugmentation('./raw-database/facedown/', './raw-database/facedown/')\n",
    "dataAugmentation('./raw-database/daceup/', './raw-database/faceup/')\n",
    "dataAugmentation('./raw-database/sittingup/', '../raw-database/sittingup/')\n",
    "dataAugmentation('./raw-database/stand/', './raw-database/stand/')\n",
    "dataAugmentation('./raw-database/climb/', './raw-database/climb/')"
   ]
  },
  {
   "cell_type": "code",
   "execution_count": 15,
   "metadata": {},
   "outputs": [],
   "source": [
    "#change file name \n",
    "\n",
    "def format_name(src_path, dest_path):\n",
    "    i = 184\n",
    "    split_path = src_path.split('/',len(src_path)-1)\n",
    "    prefix = split_path[len(split_path)-2]\n",
    "\n",
    "    # path_stand =\"./facedown/\"\n",
    "    for filename in os.listdir(src_path):\n",
    "        my_dest = prefix + \". (\" + str(i) + \").jpeg\"\n",
    "        my_source =src_path + filename\n",
    "        my_dest = dest_path + my_dest\n",
    "        os.rename(my_source, my_dest)\n",
    "        i += 1"
   ]
  },
  {
   "cell_type": "code",
   "execution_count": null,
   "metadata": {},
   "outputs": [],
   "source": [
    "format_name('./database/facedown/', 'database/train/')\n",
    "format_name('./database/climb/', 'database/train/')\n",
    "format_name('./database/faceup/', 'database/train/')\n",
    "format_name('./database/sittingup/', 'database/train/')\n",
    "format_name('./database/stand/', 'database/train/')"
   ]
  }
 ],
 "metadata": {
  "kernelspec": {
   "display_name": "Python 3",
   "language": "python",
   "name": "python3"
  },
  "language_info": {
   "codemirror_mode": {
    "name": "ipython",
    "version": 3
   },
   "file_extension": ".py",
   "mimetype": "text/x-python",
   "name": "python",
   "nbconvert_exporter": "python",
   "pygments_lexer": "ipython3",
   "version": "3.6.12"
  }
 },
 "nbformat": 4,
 "nbformat_minor": 2
}
